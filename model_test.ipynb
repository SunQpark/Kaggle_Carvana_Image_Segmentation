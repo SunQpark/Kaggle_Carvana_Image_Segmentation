{
 "cells": [
  {
   "cell_type": "code",
   "execution_count": 1,
   "metadata": {
    "scrolled": true
   },
   "outputs": [
    {
     "name": "stderr",
     "output_type": "stream",
     "text": [
      "C:\\Users\\SunQ\\Anaconda3\\lib\\site-packages\\h5py\\__init__.py:34: FutureWarning: Conversion of the second argument of issubdtype from `float` to `np.floating` is deprecated. In future, it will be treated as `np.float64 == np.dtype(float).type`.\n",
      "  from ._conv import register_converters as _register_converters\n",
      "Using TensorFlow backend.\n",
      "C:\\Users\\SunQ\\Anaconda3\\lib\\site-packages\\keras\\models.py:291: UserWarning: Error in loading the saved optimizer state. As a result, your model is starting with a freshly initialized optimizer.\n",
      "  warnings.warn('Error in loading the saved optimizer '\n"
     ]
    }
   ],
   "source": [
    "import numpy as np\n",
    "import matplotlib.pyplot as plt\n",
    "%matplotlib inline\n",
    "from PIL import Image\n",
    "from keras.models import load_model\n",
    "from utils.custom_functions import *\n",
    "\n",
    "model_name = 'Unet_180218_elu'\n",
    "filename = ['0cdf5b5d0ce1_06', '0ce66b539f52_15', '0d1a9caf4350_03', '0d53224da2b7_03', 'f1eb080c7182_03']\n",
    "model_path = 'models/{}.hdf5'.format(model_name)\n",
    "model = load(file_name=model_name)"
   ]
  },
  {
   "cell_type": "code",
   "execution_count": 2,
   "metadata": {
    "collapsed": true
   },
   "outputs": [],
   "source": [
    "#load image and corresponding label\n",
    "index = 3\n",
    "\n",
    "img = np.array(Image.open(\"inputs/train/original/{}.jpg\".format(filename[index])))\n",
    "label = np.array(Image.open(\"inputs/train_mask/original/{}_mask.gif\".format(filename[index])))"
   ]
  },
  {
   "cell_type": "code",
   "execution_count": 4,
   "metadata": {},
   "outputs": [],
   "source": [
    "prediction = model.predict(img[np.newaxis, :, :, :]/255)"
   ]
  },
  {
   "cell_type": "code",
   "execution_count": 5,
   "metadata": {
    "scrolled": true
   },
   "outputs": [
    {
     "name": "stderr",
     "output_type": "stream",
     "text": [
      "IOPub data rate exceeded.\n",
      "The notebook server will temporarily stop sending output\n",
      "to the client in order to avoid crashing it.\n",
      "To change this limit, set the config variable\n",
      "`--NotebookApp.iopub_data_rate_limit`.\n"
     ]
    }
   ],
   "source": [
    "fig = plt.figure(figsize=(15, 10), dpi=200)\n",
    "fig.subplots_adjust(hspace=0.1, wspace=0.05)\n",
    "# original image\n",
    "plt.subplot(221)\n",
    "plt.axis('off')\n",
    "plt.imshow(img)\n",
    "plt.title('Original Image')\n",
    "\n",
    "# true mask\n",
    "plt.subplot(222)\n",
    "plt.axis('off')\n",
    "plt.imshow(label)\n",
    "plt.title('True Label')\n",
    "\n",
    "# computed prediction\n",
    "plt.subplot(224)\n",
    "plt.axis('off')\n",
    "plt.imshow(prediction[0, :, :, 0])\n",
    "plt.title('Prediction')\n",
    "\n",
    "# computed prediction applied on image\n",
    "plt.subplot(223)\n",
    "plt.axis('off')\n",
    "plt.imshow(img * prediction[0, :, :, :]/255)\n",
    "plt.title('Prediction on Image')\n",
    "\n",
    "plt.savefig('outputs/result_images/{}_{}.png'.format(model_name, index))"
   ]
  },
  {
   "cell_type": "code",
   "execution_count": null,
   "metadata": {
    "collapsed": true
   },
   "outputs": [],
   "source": []
  }
 ],
 "metadata": {
  "kernelspec": {
   "display_name": "Python 3",
   "language": "python",
   "name": "python3"
  },
  "language_info": {
   "codemirror_mode": {
    "name": "ipython",
    "version": 3
   },
   "file_extension": ".py",
   "mimetype": "text/x-python",
   "name": "python",
   "nbconvert_exporter": "python",
   "pygments_lexer": "ipython3",
   "version": "3.6.3"
  }
 },
 "nbformat": 4,
 "nbformat_minor": 2
}
